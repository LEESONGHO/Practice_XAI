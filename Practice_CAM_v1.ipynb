{
 "cells": [
  {
   "cell_type": "markdown",
   "id": "b262a31a-5c59-47eb-8c4a-8166922f16fb",
   "metadata": {},
   "source": [
    "- References  \n",
    "    - https://iai.postech.ac.kr/tutorials  \n",
    "    - https://i-systems.github.io/tutorial/KSME/Advanced/220119/04_01_CAM.html\n",
    "    - https://craftsangjae.github.io/deep-learning/2020/06/01/Keras-%EB%BD%80%EA%B0%9C%EA%B8%B0-(2)-%EB%AA%A8%ED%98%95%EC%9D%84-%EA%B5%AC%EC%84%B1%ED%95%98%EA%B8%B0,-Model.html"
   ]
  },
  {
   "cell_type": "code",
   "execution_count": 5,
   "id": "2d23b0d5-5fea-4836-9ba7-611514f60cbf",
   "metadata": {},
   "outputs": [],
   "source": [
    "import numpy as np\n",
    "import matplotlib.pyplot as plt\n",
    "import os\n",
    "import cv2"
   ]
  },
  {
   "cell_type": "code",
   "execution_count": 6,
   "id": "cc7397f2-ad42-47f6-87fe-afa8642b7ab6",
   "metadata": {},
   "outputs": [
    {
     "name": "stdout",
     "output_type": "stream",
     "text": [
      "TensorFlow 버전: 2.10.0\n",
      "WARNING:tensorflow:From C:\\Users\\user\\AppData\\Local\\Temp\\ipykernel_4648\\2237853055.py:5: is_gpu_available (from tensorflow.python.framework.test_util) is deprecated and will be removed in a future version.\n",
      "Instructions for updating:\n",
      "Use `tf.config.list_physical_devices('GPU')` instead.\n",
      "GPU 사용 가능: True\n",
      "Physical devices cannot be modified after being initialized\n"
     ]
    }
   ],
   "source": [
    "import tensorflow as tf\n",
    "\n",
    "# TensorFlow가 GPU를 사용할 수 있는지 확인합니다.\n",
    "print(\"TensorFlow 버전:\", tf.__version__)\n",
    "print(\"GPU 사용 가능:\", tf.test.is_gpu_available())\n",
    "\n",
    "# 사용 가능한 GPU 목록을 출력합니다.\n",
    "gpus = tf.config.experimental.list_physical_devices('GPU')\n",
    "if gpus:\n",
    "  try:\n",
    "    # 필요한 경우 메모리 증가를 허용합니다.\n",
    "    for gpu in gpus:\n",
    "      tf.config.experimental.set_memory_growth(gpu, True)\n",
    "    print(\"사용 가능한 GPU:\", gpus)\n",
    "  except RuntimeError as e:\n",
    "    # 프로그램 시작시에 메모리 증가를 설정해야만 합니다.\n",
    "    print(e)\n",
    "else:\n",
    "  print(\"GPU를 찾을 수 없습니다. CPU를 사용합니다.\")"
   ]
  },
  {
   "cell_type": "code",
   "execution_count": 3,
   "id": "9ba823ef-0e91-451a-94ba-278463dd04c8",
   "metadata": {},
   "outputs": [
    {
     "name": "stdout",
     "output_type": "stream",
     "text": [
      "The number of training images : 6000, shape : (6000, 28, 28, 1)\n",
      "The number of testing images : 6000, shape : (6000, 28, 28, 1)\n"
     ]
    }
   ],
   "source": [
    "mnist = tf.keras.datasets.mnist\n",
    "\n",
    "(train_x, train_y), (test_x, test_y) = mnist.load_data()\n",
    "\n",
    "train_x, test_x = train_x/255.0, test_x/255.0\n",
    "\n",
    "train_x = train_x.reshape((train_x.shape[0], 28, 28, 1))\n",
    "test_x = test_x.reshape((test_x.shape[0], 28, 28, 1))\n",
    "\n",
    "train_x, train_y = train_x[0:6000], train_y[0:6000]\n",
    "test_x, test_y = test_x[0:6000], test_y[0:6000]\n",
    "\n",
    "n_train = train_x.shape[0]\n",
    "n_test = test_x.shape[0]\n",
    "\n",
    "print (\"* The number of training images : {}, shape : {}\".format(n_train, train_x.shape))\n",
    "print (\"* The number of testing images : {}, shape : {}\".format(n_test, test_x.shape))"
   ]
  },
  {
   "cell_type": "code",
   "execution_count": 12,
   "id": "a4b9b631-3bd8-4459-bacf-c0075a67f1a4",
   "metadata": {
    "scrolled": true
   },
   "outputs": [
    {
     "name": "stdout",
     "output_type": "stream",
     "text": [
      "Model: \"sequential_1\"\n",
      "_________________________________________________________________\n",
      " Layer (type)                Output Shape              Param #   \n",
      "=================================================================\n",
      " conv2d_2 (Conv2D)           (None, 28, 28, 32)        320       \n",
      "                                                                 \n",
      " max_pooling2d_1 (MaxPooling  (None, 14, 14, 32)       0         \n",
      " 2D)                                                             \n",
      "                                                                 \n",
      " conv2d_3 (Conv2D)           (None, 14, 14, 64)        18496     \n",
      "                                                                 \n",
      " global_average_pooling2d_1   (None, 64)               0         \n",
      " (GlobalAveragePooling2D)                                        \n",
      "                                                                 \n",
      " dense_1 (Dense)             (None, 10)                650       \n",
      "                                                                 \n",
      "=================================================================\n",
      "Total params: 19,466\n",
      "Trainable params: 19,466\n",
      "Non-trainable params: 0\n",
      "_________________________________________________________________\n"
     ]
    }
   ],
   "source": [
    "model = tf.keras.models.Sequential([\n",
    "    tf.keras.layers.Conv2D(filters = 32,\n",
    "                          kernel_size = (3, 3),\n",
    "                          activation = 'relu',\n",
    "                          padding = 'SAME',\n",
    "                          input_shape = (28, 28, 1)),\n",
    "    tf.keras.layers.MaxPool2D((2, 2)),\n",
    "    \n",
    "    tf.keras.layers.Conv2D(filters = 64,\n",
    "                          kernel_size = (3, 3),\n",
    "                          activation = 'relu',\n",
    "                          padding = 'SAME',\n",
    "                          input_shape = (14, 14, 32)),\n",
    "    \n",
    "    tf.keras.layers.GlobalAveragePooling2D(),\n",
    "    \n",
    "    tf.keras.layers.Dense(units = 10, activation = 'softmax')\n",
    "])\n",
    "model.summary()"
   ]
  },
  {
   "cell_type": "code",
   "execution_count": 13,
   "id": "24511cfc-1b53-4d4a-8f13-0dc0d2f7d4a0",
   "metadata": {},
   "outputs": [],
   "source": [
    "model.compile(optimizer = 'adam',\n",
    "             loss = 'sparse_categorical_crossentropy',\n",
    "             metrics = 'accuracy')"
   ]
  },
  {
   "cell_type": "code",
   "execution_count": 14,
   "id": "c08c084c-8634-4020-b35d-309d6095eb6e",
   "metadata": {
    "scrolled": true
   },
   "outputs": [
    {
     "name": "stdout",
     "output_type": "stream",
     "text": [
      "Epoch 1/100\n",
      "47/47 [==============================] - 1s 8ms/step - loss: 2.2822 - accuracy: 0.1065\n",
      "Epoch 2/100\n",
      "47/47 [==============================] - 0s 2ms/step - loss: 2.1967 - accuracy: 0.2087\n",
      "Epoch 3/100\n",
      "47/47 [==============================] - 0s 2ms/step - loss: 1.9763 - accuracy: 0.3310\n",
      "Epoch 4/100\n",
      "47/47 [==============================] - 0s 2ms/step - loss: 1.7782 - accuracy: 0.3708\n",
      "Epoch 5/100\n",
      "47/47 [==============================] - 0s 2ms/step - loss: 1.6661 - accuracy: 0.4157\n",
      "Epoch 6/100\n",
      "47/47 [==============================] - 0s 2ms/step - loss: 1.5941 - accuracy: 0.4433\n",
      "Epoch 7/100\n",
      "47/47 [==============================] - 0s 2ms/step - loss: 1.5514 - accuracy: 0.4737\n",
      "Epoch 8/100\n",
      "47/47 [==============================] - 0s 2ms/step - loss: 1.4933 - accuracy: 0.5112\n",
      "Epoch 9/100\n",
      "47/47 [==============================] - 0s 2ms/step - loss: 1.4521 - accuracy: 0.5305\n",
      "Epoch 10/100\n",
      "47/47 [==============================] - 0s 2ms/step - loss: 1.4030 - accuracy: 0.5510\n",
      "Epoch 11/100\n",
      "47/47 [==============================] - 0s 2ms/step - loss: 1.3528 - accuracy: 0.5783\n",
      "Epoch 12/100\n",
      "47/47 [==============================] - 0s 2ms/step - loss: 1.3039 - accuracy: 0.6058\n",
      "Epoch 13/100\n",
      "47/47 [==============================] - 0s 2ms/step - loss: 1.2545 - accuracy: 0.6218\n",
      "Epoch 14/100\n",
      "47/47 [==============================] - 0s 2ms/step - loss: 1.2069 - accuracy: 0.6383\n",
      "Epoch 15/100\n",
      "47/47 [==============================] - 0s 2ms/step - loss: 1.1554 - accuracy: 0.6652\n",
      "Epoch 16/100\n",
      "47/47 [==============================] - 0s 2ms/step - loss: 1.1180 - accuracy: 0.6685\n",
      "Epoch 17/100\n",
      "47/47 [==============================] - 0s 2ms/step - loss: 1.0732 - accuracy: 0.6863\n",
      "Epoch 18/100\n",
      "47/47 [==============================] - 0s 2ms/step - loss: 1.0363 - accuracy: 0.6958\n",
      "Epoch 19/100\n",
      "47/47 [==============================] - 0s 2ms/step - loss: 1.0028 - accuracy: 0.7063\n",
      "Epoch 20/100\n",
      "47/47 [==============================] - 0s 2ms/step - loss: 0.9704 - accuracy: 0.7263\n",
      "Epoch 21/100\n",
      "47/47 [==============================] - 0s 2ms/step - loss: 0.9346 - accuracy: 0.7318\n",
      "Epoch 22/100\n",
      "47/47 [==============================] - 0s 2ms/step - loss: 0.9111 - accuracy: 0.7402\n",
      "Epoch 23/100\n",
      "47/47 [==============================] - 0s 2ms/step - loss: 0.8731 - accuracy: 0.7512\n",
      "Epoch 24/100\n",
      "47/47 [==============================] - 0s 2ms/step - loss: 0.8729 - accuracy: 0.7390\n",
      "Epoch 25/100\n",
      "47/47 [==============================] - 0s 2ms/step - loss: 0.8382 - accuracy: 0.7592\n",
      "Epoch 26/100\n",
      "47/47 [==============================] - 0s 2ms/step - loss: 0.8069 - accuracy: 0.7668\n",
      "Epoch 27/100\n",
      "47/47 [==============================] - 0s 2ms/step - loss: 0.7924 - accuracy: 0.7685\n",
      "Epoch 28/100\n",
      "47/47 [==============================] - 0s 2ms/step - loss: 0.7734 - accuracy: 0.7735\n",
      "Epoch 29/100\n",
      "47/47 [==============================] - 0s 2ms/step - loss: 0.7535 - accuracy: 0.7793\n",
      "Epoch 30/100\n",
      "47/47 [==============================] - 0s 2ms/step - loss: 0.7377 - accuracy: 0.7862\n",
      "Epoch 31/100\n",
      "47/47 [==============================] - 0s 2ms/step - loss: 0.7214 - accuracy: 0.7923\n",
      "Epoch 32/100\n",
      "47/47 [==============================] - 0s 2ms/step - loss: 0.7079 - accuracy: 0.7927\n",
      "Epoch 33/100\n",
      "47/47 [==============================] - 0s 2ms/step - loss: 0.6881 - accuracy: 0.8030\n",
      "Epoch 34/100\n",
      "47/47 [==============================] - 0s 2ms/step - loss: 0.6782 - accuracy: 0.8022\n",
      "Epoch 35/100\n",
      "47/47 [==============================] - 0s 2ms/step - loss: 0.6624 - accuracy: 0.8133\n",
      "Epoch 36/100\n",
      "47/47 [==============================] - 0s 2ms/step - loss: 0.6533 - accuracy: 0.8125\n",
      "Epoch 37/100\n",
      "47/47 [==============================] - 0s 2ms/step - loss: 0.6464 - accuracy: 0.8135\n",
      "Epoch 38/100\n",
      "47/47 [==============================] - 0s 2ms/step - loss: 0.6308 - accuracy: 0.8208\n",
      "Epoch 39/100\n",
      "47/47 [==============================] - 0s 2ms/step - loss: 0.6197 - accuracy: 0.8252\n",
      "Epoch 40/100\n",
      "47/47 [==============================] - 0s 2ms/step - loss: 0.6129 - accuracy: 0.8238\n",
      "Epoch 41/100\n",
      "47/47 [==============================] - 0s 2ms/step - loss: 0.5997 - accuracy: 0.8302\n",
      "Epoch 42/100\n",
      "47/47 [==============================] - 0s 2ms/step - loss: 0.5945 - accuracy: 0.8248\n",
      "Epoch 43/100\n",
      "47/47 [==============================] - 0s 2ms/step - loss: 0.5874 - accuracy: 0.8302\n",
      "Epoch 44/100\n",
      "47/47 [==============================] - 0s 2ms/step - loss: 0.5823 - accuracy: 0.8300\n",
      "Epoch 45/100\n",
      "47/47 [==============================] - 0s 2ms/step - loss: 0.5635 - accuracy: 0.8392\n",
      "Epoch 46/100\n",
      "47/47 [==============================] - 0s 2ms/step - loss: 0.5564 - accuracy: 0.8400\n",
      "Epoch 47/100\n",
      "47/47 [==============================] - 0s 2ms/step - loss: 0.5469 - accuracy: 0.8473\n",
      "Epoch 48/100\n",
      "47/47 [==============================] - 0s 2ms/step - loss: 0.5360 - accuracy: 0.8495\n",
      "Epoch 49/100\n",
      "47/47 [==============================] - 0s 2ms/step - loss: 0.5289 - accuracy: 0.8518\n",
      "Epoch 50/100\n",
      "47/47 [==============================] - 0s 2ms/step - loss: 0.5264 - accuracy: 0.8543\n",
      "Epoch 51/100\n",
      "47/47 [==============================] - 0s 2ms/step - loss: 0.5249 - accuracy: 0.8513\n",
      "Epoch 52/100\n",
      "47/47 [==============================] - 0s 2ms/step - loss: 0.5250 - accuracy: 0.8490\n",
      "Epoch 53/100\n",
      "47/47 [==============================] - 0s 2ms/step - loss: 0.5151 - accuracy: 0.8547\n",
      "Epoch 54/100\n",
      "47/47 [==============================] - 0s 2ms/step - loss: 0.5047 - accuracy: 0.8577\n",
      "Epoch 55/100\n",
      "47/47 [==============================] - 0s 2ms/step - loss: 0.4959 - accuracy: 0.8602\n",
      "Epoch 56/100\n",
      "47/47 [==============================] - 0s 2ms/step - loss: 0.4845 - accuracy: 0.8628\n",
      "Epoch 57/100\n",
      "47/47 [==============================] - 0s 2ms/step - loss: 0.4777 - accuracy: 0.8717\n",
      "Epoch 58/100\n",
      "47/47 [==============================] - 0s 2ms/step - loss: 0.4742 - accuracy: 0.8677\n",
      "Epoch 59/100\n",
      "47/47 [==============================] - 0s 2ms/step - loss: 0.4733 - accuracy: 0.8672\n",
      "Epoch 60/100\n",
      "47/47 [==============================] - 0s 2ms/step - loss: 0.4755 - accuracy: 0.8660\n",
      "Epoch 61/100\n",
      "47/47 [==============================] - 0s 2ms/step - loss: 0.4554 - accuracy: 0.8713\n",
      "Epoch 62/100\n",
      "47/47 [==============================] - 0s 2ms/step - loss: 0.4654 - accuracy: 0.8708\n",
      "Epoch 63/100\n",
      "47/47 [==============================] - 0s 2ms/step - loss: 0.4553 - accuracy: 0.8717\n",
      "Epoch 64/100\n",
      "47/47 [==============================] - 0s 2ms/step - loss: 0.4436 - accuracy: 0.8772\n",
      "Epoch 65/100\n",
      "47/47 [==============================] - 0s 2ms/step - loss: 0.4369 - accuracy: 0.8803\n",
      "Epoch 66/100\n",
      "47/47 [==============================] - 0s 2ms/step - loss: 0.4426 - accuracy: 0.8750\n",
      "Epoch 67/100\n",
      "47/47 [==============================] - 0s 2ms/step - loss: 0.4275 - accuracy: 0.8820\n",
      "Epoch 68/100\n",
      "47/47 [==============================] - 0s 2ms/step - loss: 0.4241 - accuracy: 0.8817\n",
      "Epoch 69/100\n",
      "47/47 [==============================] - 0s 2ms/step - loss: 0.4172 - accuracy: 0.8853\n",
      "Epoch 70/100\n",
      "47/47 [==============================] - 0s 2ms/step - loss: 0.4131 - accuracy: 0.8875\n",
      "Epoch 71/100\n",
      "47/47 [==============================] - 0s 2ms/step - loss: 0.4073 - accuracy: 0.8875\n",
      "Epoch 72/100\n",
      "47/47 [==============================] - 0s 2ms/step - loss: 0.4119 - accuracy: 0.8853\n",
      "Epoch 73/100\n",
      "47/47 [==============================] - 0s 3ms/step - loss: 0.4011 - accuracy: 0.8893\n",
      "Epoch 74/100\n",
      "47/47 [==============================] - 0s 2ms/step - loss: 0.4025 - accuracy: 0.8870\n",
      "Epoch 75/100\n",
      "47/47 [==============================] - 0s 2ms/step - loss: 0.3973 - accuracy: 0.8880\n",
      "Epoch 76/100\n",
      "47/47 [==============================] - 0s 2ms/step - loss: 0.4029 - accuracy: 0.8860\n",
      "Epoch 77/100\n",
      "47/47 [==============================] - 0s 2ms/step - loss: 0.3874 - accuracy: 0.8913\n",
      "Epoch 78/100\n",
      "47/47 [==============================] - 0s 2ms/step - loss: 0.3823 - accuracy: 0.8933\n",
      "Epoch 79/100\n",
      "47/47 [==============================] - 0s 2ms/step - loss: 0.3781 - accuracy: 0.8977\n",
      "Epoch 80/100\n",
      "47/47 [==============================] - 0s 2ms/step - loss: 0.3792 - accuracy: 0.8953\n",
      "Epoch 81/100\n",
      "47/47 [==============================] - 0s 2ms/step - loss: 0.3760 - accuracy: 0.8983\n",
      "Epoch 82/100\n",
      "47/47 [==============================] - 0s 2ms/step - loss: 0.3683 - accuracy: 0.8990\n",
      "Epoch 83/100\n",
      "47/47 [==============================] - 0s 2ms/step - loss: 0.3650 - accuracy: 0.8973\n",
      "Epoch 84/100\n",
      "47/47 [==============================] - 0s 2ms/step - loss: 0.3671 - accuracy: 0.8985\n",
      "Epoch 85/100\n",
      "47/47 [==============================] - 0s 2ms/step - loss: 0.3631 - accuracy: 0.8965\n",
      "Epoch 86/100\n",
      "47/47 [==============================] - 0s 2ms/step - loss: 0.3608 - accuracy: 0.8958\n",
      "Epoch 87/100\n",
      "47/47 [==============================] - 0s 2ms/step - loss: 0.3598 - accuracy: 0.8975\n",
      "Epoch 88/100\n",
      "47/47 [==============================] - 0s 2ms/step - loss: 0.3588 - accuracy: 0.9003\n",
      "Epoch 89/100\n",
      "47/47 [==============================] - 0s 2ms/step - loss: 0.3514 - accuracy: 0.8972\n",
      "Epoch 90/100\n",
      "47/47 [==============================] - 0s 2ms/step - loss: 0.3476 - accuracy: 0.9033\n",
      "Epoch 91/100\n",
      "47/47 [==============================] - 0s 2ms/step - loss: 0.3473 - accuracy: 0.9032\n",
      "Epoch 92/100\n",
      "47/47 [==============================] - 0s 2ms/step - loss: 0.3460 - accuracy: 0.9010\n",
      "Epoch 93/100\n",
      "47/47 [==============================] - 0s 2ms/step - loss: 0.3377 - accuracy: 0.9030\n",
      "Epoch 94/100\n",
      "47/47 [==============================] - 0s 2ms/step - loss: 0.3326 - accuracy: 0.9073\n",
      "Epoch 95/100\n",
      "47/47 [==============================] - 0s 2ms/step - loss: 0.3349 - accuracy: 0.9067\n",
      "Epoch 96/100\n",
      "47/47 [==============================] - 0s 2ms/step - loss: 0.3284 - accuracy: 0.9102\n",
      "Epoch 97/100\n",
      "47/47 [==============================] - 0s 2ms/step - loss: 0.3244 - accuracy: 0.9105\n",
      "Epoch 98/100\n",
      "47/47 [==============================] - 0s 2ms/step - loss: 0.3225 - accuracy: 0.9105\n",
      "Epoch 99/100\n",
      "47/47 [==============================] - 0s 2ms/step - loss: 0.3269 - accuracy: 0.9092\n",
      "Epoch 100/100\n",
      "47/47 [==============================] - 0s 2ms/step - loss: 0.3238 - accuracy: 0.9072\n"
     ]
    }
   ],
   "source": [
    "history = model.fit(train_x, train_y, \n",
    "                    batch_size = 128, \n",
    "                    epochs = 100)"
   ]
  },
  {
   "cell_type": "code",
   "execution_count": 15,
   "id": "e7e5766c-a736-43c8-9025-b5d0c809252f",
   "metadata": {
    "scrolled": true
   },
   "outputs": [
    {
     "name": "stdout",
     "output_type": "stream",
     "text": [
      "[2.282240867614746, 2.196701765060425, 1.9763171672821045, 1.7781976461410522, 1.6660836935043335, 1.5940546989440918, 1.5513755083084106, 1.4933053255081177, 1.4520583152770996, 1.4030042886734009, 1.352792501449585, 1.3038678169250488, 1.2545355558395386, 1.2068932056427002, 1.1553869247436523, 1.1180261373519897, 1.073224663734436, 1.03626549243927, 1.0028234720230103, 0.9704404473304749, 0.9346445202827454, 0.9110755324363708, 0.8730642795562744, 0.8728771805763245, 0.8381750583648682, 0.8069396018981934, 0.7924382090568542, 0.7733609080314636, 0.7535022497177124, 0.737689197063446, 0.7213702201843262, 0.7078512907028198, 0.6880722045898438, 0.6782236695289612, 0.6624000072479248, 0.6533145904541016, 0.6463916897773743, 0.6308497190475464, 0.6197288036346436, 0.612886905670166, 0.5996536612510681, 0.5945324897766113, 0.5873528718948364, 0.5823222994804382, 0.5634896159172058, 0.5563665628433228, 0.5469425320625305, 0.536016047000885, 0.5288664102554321, 0.5264395475387573, 0.5249091982841492, 0.5249627828598022, 0.5151359438896179, 0.5047181844711304, 0.49593111872673035, 0.484519362449646, 0.4776524305343628, 0.47421345114707947, 0.4733082950115204, 0.4754573106765747, 0.45540279150009155, 0.46535801887512207, 0.4552978575229645, 0.44363757967948914, 0.43691515922546387, 0.4426092505455017, 0.4275378882884979, 0.4240996837615967, 0.4171920716762543, 0.41314953565597534, 0.4073123335838318, 0.4119395613670349, 0.4011135995388031, 0.4025091826915741, 0.39726850390434265, 0.4029419422149658, 0.38736116886138916, 0.3822760283946991, 0.3781164288520813, 0.37920552492141724, 0.37602290511131287, 0.36830148100852966, 0.3650094270706177, 0.36712315678596497, 0.3630511462688446, 0.36076274514198303, 0.3597542643547058, 0.3587973713874817, 0.3514283299446106, 0.3476337790489197, 0.3472857177257538, 0.34596768021583557, 0.3376532793045044, 0.33262160420417786, 0.3348577618598938, 0.3284439146518707, 0.3243679404258728, 0.32252436876296997, 0.3268977999687195, 0.32380616664886475]\n"
     ]
    },
    {
     "data": {
      "image/png": "[encoded data removed]",
      "text/plain": [
       "<Figure size 300x300 with 1 Axes>"
      ]
     },
     "metadata": {},
     "output_type": "display_data"
    }
   ],
   "source": [
    "loss = history.history[\"loss\"]\n",
    "epochs = range(1, len(loss) + 1)\n",
    "plt.figure(figsize = (3,3))\n",
    "plt.plot(epochs, loss, \"o--\", label=\"Training loss\")\n",
    "plt.title(\"Training loss\", fontsize = 25)\n",
    "plt.xlabel(\"Epochs\", fontsize = 20)\n",
    "plt.ylabel(\"Loss\", fontsize = 20)\n",
    "plt.savefig('Training loss.tiff')\n",
    "print(loss)\n",
    "plt.show()"
   ]
  },
  {
   "cell_type": "code",
   "execution_count": 16,
   "id": "8cab5287-0310-4d2a-912b-402c9474de77",
   "metadata": {
    "scrolled": true
   },
   "outputs": [
    {
     "name": "stdout",
     "output_type": "stream",
     "text": [
      "[0.10649999976158142, 0.20866666734218597, 0.3310000002384186, 0.3708333373069763, 0.4156666696071625, 0.44333332777023315, 0.4736666679382324, 0.5111666917800903, 0.5304999947547913, 0.5509999990463257, 0.57833331823349, 0.6058333516120911, 0.621833324432373, 0.6383333206176758, 0.6651666760444641, 0.6685000061988831, 0.6863333582878113, 0.6958333253860474, 0.706333339214325, 0.7263333201408386, 0.7318333387374878, 0.7401666641235352, 0.7511666417121887, 0.7390000224113464, 0.7591666579246521, 0.7668333053588867, 0.7684999704360962, 0.7735000252723694, 0.7793333530426025, 0.7861666679382324, 0.7923333048820496, 0.7926666736602783, 0.8029999732971191, 0.8021666407585144, 0.8133333325386047, 0.8125, 0.8134999871253967, 0.8208333253860474, 0.825166642665863, 0.8238333463668823, 0.8301666378974915, 0.824833333492279, 0.8301666378974915, 0.8299999833106995, 0.8391666412353516, 0.8399999737739563, 0.8473333120346069, 0.8495000004768372, 0.8518333435058594, 0.8543333411216736, 0.8513333201408386, 0.8489999771118164, 0.8546666502952576, 0.8576666712760925, 0.8601666688919067, 0.8628333210945129, 0.871666669845581, 0.8676666617393494, 0.8671666383743286, 0.8659999966621399, 0.8713333606719971, 0.8708333373069763, 0.871666669845581, 0.8771666884422302, 0.8803333044052124, 0.875, 0.8820000290870667, 0.8816666603088379, 0.8853333592414856, 0.887499988079071, 0.887499988079071, 0.8853333592414856, 0.8893333077430725, 0.8870000243186951, 0.8880000114440918, 0.8859999775886536, 0.8913333415985107, 0.8933333158493042, 0.8976666927337646, 0.8953333497047424, 0.8983333110809326, 0.8989999890327454, 0.8973333239555359, 0.8985000252723694, 0.8964999914169312, 0.8958333134651184, 0.8974999785423279, 0.9003333449363708, 0.8971666693687439, 0.903333306312561, 0.903166651725769, 0.9010000228881836, 0.902999997138977, 0.9073333144187927, 0.9066666960716248, 0.9101666808128357, 0.9104999899864197, 0.9104999899864197, 0.909166693687439, 0.9071666598320007]\n"
     ]
    },
    {
     "data": {
      "text/plain": [
       "<Figure size 640x480 with 0 Axes>"
      ]
     },
     "metadata": {},
     "output_type": "display_data"
    },
    {
     "data": {
      "image/png": "[encoded data removed]",
      "text/plain": [
       "<Figure size 300x300 with 1 Axes>"
      ]
     },
     "metadata": {},
     "output_type": "display_data"
    }
   ],
   "source": [
    "plt.clf()\n",
    "plt.figure(figsize = (3,3))\n",
    "acc = history.history[\"accuracy\"]\n",
    "plt.plot(epochs, acc, \"o--\", label=\"Training accuracy\")\n",
    "plt.title(\"Training accuracy\", fontsize = 25)\n",
    "plt.xlabel(\"Epochs\", fontsize = 20)\n",
    "plt.ylabel(\"Accuracy\", fontsize = 20)\n",
    "plt.savefig('Accuracy.tiff')\n",
    "print(acc)\n",
    "plt.show()"
   ]
  },
  {
   "cell_type": "code",
   "execution_count": 17,
   "id": "6a497292-ef31-4fa3-b35a-b0bc767c879d",
   "metadata": {},
   "outputs": [
    {
     "name": "stdout",
     "output_type": "stream",
     "text": [
      "188/188 [==============================] - 0s 1ms/step - loss: 0.3769 - accuracy: 0.8882\n"
     ]
    }
   ],
   "source": [
    "# accuracy test\n",
    "test_loss, test_acc = model.evaluate(test_x, test_y)"
   ]
  },
  {
   "cell_type": "code",
   "execution_count": null,
   "id": "45054b68-1da5-4a1a-a136-85c15aa65748",
   "metadata": {},
   "outputs": [],
   "source": []
  },
  {
   "cell_type": "markdown",
   "id": "deb28360-8609-4cbb-86ec-060750f63f04",
   "metadata": {},
   "source": [
    "# CAM"
   ]
  },
  {
   "cell_type": "code",
   "execution_count": 22,
   "id": "b768ddf2-2bcb-4fc4-a980-34617351b880",
   "metadata": {
    "scrolled": true
   },
   "outputs": [
    {
     "data": {
      "text/plain": [
       "{'name': 'sequential_1',\n",
       " 'layers': [{'class_name': 'InputLayer',\n",
       "   'config': {'batch_input_shape': (None, 28, 28, 1),\n",
       "    'dtype': 'float32',\n",
       "    'sparse': False,\n",
       "    'ragged': False,\n",
       "    'name': 'conv2d_2_input'}},\n",
       "  {'class_name': 'Conv2D',\n",
       "   'config': {'name': 'conv2d_2',\n",
       "    'trainable': True,\n",
       "    'batch_input_shape': (None, 28, 28, 1),\n",
       "    'dtype': 'float32',\n",
       "    'filters': 32,\n",
       "    'kernel_size': (3, 3),\n",
       "    'strides': (1, 1),\n",
       "    'padding': 'same',\n",
       "    'data_format': 'channels_last',\n",
       "    'dilation_rate': (1, 1),\n",
       "    'groups': 1,\n",
       "    'activation': 'relu',\n",
       "    'use_bias': True,\n",
       "    'kernel_initializer': {'class_name': 'GlorotUniform',\n",
       "     'config': {'seed': None}},\n",
       "    'bias_initializer': {'class_name': 'Zeros', 'config': {}},\n",
       "    'kernel_regularizer': None,\n",
       "    'bias_regularizer': None,\n",
       "    'activity_regularizer': None,\n",
       "    'kernel_constraint': None,\n",
       "    'bias_constraint': None}},\n",
       "  {'class_name': 'MaxPooling2D',\n",
       "   'config': {'name': 'max_pooling2d_1',\n",
       "    'trainable': True,\n",
       "    'dtype': 'float32',\n",
       "    'pool_size': (2, 2),\n",
       "    'padding': 'valid',\n",
       "    'strides': (2, 2),\n",
       "    'data_format': 'channels_last'}},\n",
       "  {'class_name': 'Conv2D',\n",
       "   'config': {'name': 'conv2d_3',\n",
       "    'trainable': True,\n",
       "    'batch_input_shape': (None, 14, 14, 32),\n",
       "    'dtype': 'float32',\n",
       "    'filters': 64,\n",
       "    'kernel_size': (3, 3),\n",
       "    'strides': (1, 1),\n",
       "    'padding': 'same',\n",
       "    'data_format': 'channels_last',\n",
       "    'dilation_rate': (1, 1),\n",
       "    'groups': 1,\n",
       "    'activation': 'relu',\n",
       "    'use_bias': True,\n",
       "    'kernel_initializer': {'class_name': 'GlorotUniform',\n",
       "     'config': {'seed': None}},\n",
       "    'bias_initializer': {'class_name': 'Zeros', 'config': {}},\n",
       "    'kernel_regularizer': None,\n",
       "    'bias_regularizer': None,\n",
       "    'activity_regularizer': None,\n",
       "    'kernel_constraint': None,\n",
       "    'bias_constraint': None}},\n",
       "  {'class_name': 'GlobalAveragePooling2D',\n",
       "   'config': {'name': 'global_average_pooling2d_1',\n",
       "    'trainable': True,\n",
       "    'dtype': 'float32',\n",
       "    'data_format': 'channels_last',\n",
       "    'keepdims': False}},\n",
       "  {'class_name': 'Dense',\n",
       "   'config': {'name': 'dense_1',\n",
       "    'trainable': True,\n",
       "    'dtype': 'float32',\n",
       "    'units': 10,\n",
       "    'activation': 'softmax',\n",
       "    'use_bias': True,\n",
       "    'kernel_initializer': {'class_name': 'GlorotUniform',\n",
       "     'config': {'seed': None}},\n",
       "    'bias_initializer': {'class_name': 'Zeros', 'config': {}},\n",
       "    'kernel_regularizer': None,\n",
       "    'bias_regularizer': None,\n",
       "    'activity_regularizer': None,\n",
       "    'kernel_constraint': None,\n",
       "    'bias_constraint': None}}]}"
      ]
     },
     "execution_count": 22,
     "metadata": {},
     "output_type": "execute_result"
    }
   ],
   "source": [
    "model.get_config()"
   ]
  },
  {
   "cell_type": "code",
   "execution_count": 31,
   "id": "9ca59d10-f702-4d82-8994-48514d312324",
   "metadata": {},
   "outputs": [
    {
     "name": "stdout",
     "output_type": "stream",
     "text": [
      "5\n"
     ]
    },
    {
     "data": {
      "text/plain": [
       "[<keras.layers.convolutional.conv2d.Conv2D at 0x2b42a830310>,\n",
       " <keras.layers.pooling.max_pooling2d.MaxPooling2D at 0x2b42a830100>,\n",
       " <keras.layers.convolutional.conv2d.Conv2D at 0x2b42a830070>,\n",
       " <keras.layers.pooling.global_average_pooling2d.GlobalAveragePooling2D at 0x2b42a84bd30>,\n",
       " <keras.layers.core.dense.Dense at 0x2b42a346220>]"
      ]
     },
     "execution_count": 31,
     "metadata": {},
     "output_type": "execute_result"
    }
   ],
   "source": [
    "print(len(model.layers))\n",
    "model.layers"
   ]
  },
  {
   "cell_type": "code",
   "execution_count": 32,
   "id": "57110c41-22f6-4778-8b5d-5a7cb3d771f5",
   "metadata": {},
   "outputs": [
    {
     "data": {
      "text/plain": [
       "<keras.layers.core.dense.Dense at 0x2b42a346220>"
      ]
     },
     "execution_count": 32,
     "metadata": {},
     "output_type": "execute_result"
    }
   ],
   "source": [
    "model.layers[4]"
   ]
  },
  {
   "cell_type": "code",
   "execution_count": 42,
   "id": "9bf00e77-de02-438d-a278-f769e4bea179",
   "metadata": {},
   "outputs": [
    {
     "data": {
      "text/plain": [
       "(10,)"
      ]
     },
     "execution_count": 42,
     "metadata": {},
     "output_type": "execute_result"
    }
   ],
   "source": [
    "np.shape(model.layers[4].get_weights()[1])"
   ]
  },
  {
   "cell_type": "code",
   "execution_count": 43,
   "id": "4d4dcc8b-9f01-4daa-a381-ffdca3d66ee3",
   "metadata": {},
   "outputs": [],
   "source": [
    "## Define the CAM\n",
    "# get max pooling layer and fully connected layer \n",
    "conv_layer = model.get_layer(index = 2) # MaxPooling2D\n",
    "fc_layer = model.layers[4].get_weights()[0] # Dense [0] w: (64,10) [1] b: (10,)\n",
    "\n",
    "# Class activation map \n",
    "my_map = tf.matmul(conv_layer.output, fc_layer)\n",
    "CAM = tf.keras.Model(inputs = model.inputs, outputs = my_map)"
   ]
  },
  {
   "cell_type": "code",
   "execution_count": 64,
   "id": "5aba95c1-6689-4e2e-989a-a7a7f8a1f185",
   "metadata": {},
   "outputs": [
    {
     "data": {
      "text/plain": [
       "(64, 10)"
      ]
     },
     "execution_count": 64,
     "metadata": {},
     "output_type": "execute_result"
    }
   ],
   "source": [
    "np.shape(fc_layer)"
   ]
  },
  {
   "cell_type": "code",
   "execution_count": 45,
   "id": "b67f3b7a-097b-46d6-b44e-85091fa34b97",
   "metadata": {},
   "outputs": [],
   "source": [
    "## Compare the CAM data from input of 1, 7 and 9\n",
    "# Select indices of test data of 1, 7 and 9\n",
    "list_1 = []\n",
    "list_7 = []\n",
    "list_9 = []\n",
    "for i in range(1000):\n",
    "    if test_y[i] == 1:\n",
    "        list_1.append(i)\n",
    "    if test_y[i] == 7:\n",
    "        list_7.append(i)\n",
    "    if test_y[i] == 9:\n",
    "        list_9.append(i)"
   ]
  },
  {
   "cell_type": "code",
   "execution_count": 70,
   "id": "ab7a3560-dbf6-44ff-ab2e-6d6e264bbaac",
   "metadata": {},
   "outputs": [],
   "source": [
    "i = np.random.randint(0, 90)\n",
    "i = 10"
   ]
  },
  {
   "cell_type": "code",
   "execution_count": 74,
   "id": "a668a887-41f0-40cd-8f9b-b7798050c005",
   "metadata": {},
   "outputs": [
    {
     "name": "stdout",
     "output_type": "stream",
     "text": [
      "1/1 [==============================] - 0s 12ms/step\n",
      "* pred_1:  [1]\n",
      "1/1 [==============================] - 0s 12ms/step\n"
     ]
    },
    {
     "data": {
      "text/plain": [
       "(-0.5, 27.5, 27.5, -0.5)"
      ]
     },
     "execution_count": 74,
     "metadata": {},
     "output_type": "execute_result"
    },
    {
     "data": {
      "image/png": "[encoded data removed]",
      "text/plain": [
       "<Figure size 1500x500 with 5 Axes>"
      ]
     },
     "metadata": {},
     "output_type": "display_data"
    }
   ],
   "source": [
    "## Create CAM data for \"1\"\n",
    "test_idx_1 = [list_1[i]]\n",
    "test_image_1 = test_x[test_idx_1]\n",
    "pred_1 = np.argmax(model.predict(test_image_1), axis = 1)\n",
    "print(\"* pred_1: \", pred_1)\n",
    "predCAM_1 = CAM.predict(test_image_1)\n",
    "\n",
    "# pred_1 = 9\n",
    "attention_1 = predCAM_1[:,:,:,pred_1]\n",
    "attention_1 = np.abs(np.reshape(attention_1,(14,14)))\n",
    "\n",
    "resized_attention_1 = cv2.resize(attention_1,\n",
    "                                 (28, 28), \n",
    "                                 interpolation = cv2.INTER_CUBIC)\n",
    "\n",
    "resized_test_x_1 = cv2.resize(test_image_1.reshape(28,28), \n",
    "                              (28, 28),\n",
    "                              interpolation = cv2.INTER_CUBIC)\n",
    "\n",
    "# Plot\n",
    "plt.figure(figsize = (15,5))\n",
    "plt.subplot(1,5,1)\n",
    "plt.imshow(test_x[test_idx_1].reshape(28,28), 'gray')\n",
    "plt.axis('off')\n",
    "plt.subplot(1,5,2)\n",
    "plt.imshow(attention_1)\n",
    "plt.axis('off')\n",
    "plt.subplot(1,5,3)\n",
    "plt.imshow(resized_test_x_1, 'gray')\n",
    "plt.axis('off')\n",
    "plt.subplot(1,5,4)\n",
    "plt.imshow(resized_attention_1, 'jet', alpha = 0.5)\n",
    "plt.axis('off')\n",
    "plt.subplot(1,5,5)\n",
    "plt.imshow(resized_test_x_1, 'gray')\n",
    "plt.imshow(resized_attention_1, 'jet', alpha = 0.5)\n",
    "plt.axis('off')"
   ]
  },
  {
   "cell_type": "code",
   "execution_count": 75,
   "id": "c3a74dfb-0540-473d-8463-9c68508041cb",
   "metadata": {},
   "outputs": [
    {
     "name": "stdout",
     "output_type": "stream",
     "text": [
      "1/1 [==============================] - 0s 12ms/step\n",
      "* pred_2:  [7]\n",
      "1/1 [==============================] - 0s 11ms/step\n"
     ]
    },
    {
     "data": {
      "text/plain": [
       "(-0.5, 27.5, 27.5, -0.5)"
      ]
     },
     "execution_count": 75,
     "metadata": {},
     "output_type": "execute_result"
    },
    {
     "data": {
      "image/png": "[encoded data removed]",
      "text/plain": [
       "<Figure size 1500x500 with 5 Axes>"
      ]
     },
     "metadata": {},
     "output_type": "display_data"
    }
   ],
   "source": [
    "## Create CAM data for \"7\"\n",
    "test_idx_2 = [list_7[i]]\n",
    "test_image_2 = test_x[test_idx_2]\n",
    "\n",
    "pred_2 = np.argmax(model.predict(test_image_2), axis = 1)\n",
    "print(\"* pred_2: \", pred_2)\n",
    "predCAM_2 = CAM.predict(test_image_2)\n",
    "\n",
    "attention_2 = predCAM_2[:,:,:,pred_2]\n",
    "attention_2 = np.abs(np.reshape(attention_2,(14,14)))\n",
    "\n",
    "resized_attention_2 = cv2.resize(attention_2,\n",
    "                                 (28, 28), \n",
    "                                 interpolation = cv2.INTER_CUBIC)\n",
    "\n",
    "resized_test_x_2 = cv2.resize(test_image_2.reshape(28,28), \n",
    "                              (28, 28),\n",
    "                              interpolation = cv2.INTER_CUBIC)\n",
    "\n",
    "# Plot\n",
    "plt.figure(figsize = (15,5))\n",
    "plt.subplot(1,5,1)\n",
    "plt.imshow(test_x[test_idx_2].reshape(28,28), 'gray')\n",
    "plt.axis('off')\n",
    "plt.subplot(1,5,2)\n",
    "plt.imshow(attention_2)\n",
    "plt.axis('off')\n",
    "plt.subplot(1,5,3)\n",
    "plt.imshow(resized_test_x_2, 'gray')\n",
    "plt.axis('off')\n",
    "plt.subplot(1,5,4)\n",
    "plt.imshow(resized_attention_2, 'jet', alpha = 0.5)\n",
    "plt.axis('off')\n",
    "plt.subplot(1,5,5)\n",
    "plt.imshow(resized_test_x_2, 'gray')\n",
    "plt.imshow(resized_attention_2, 'jet', alpha = 0.5)\n",
    "plt.axis('off')"
   ]
  },
  {
   "cell_type": "code",
   "execution_count": 76,
   "id": "0e3be0bd-f959-49f0-bcf1-944fea5451e4",
   "metadata": {},
   "outputs": [
    {
     "name": "stdout",
     "output_type": "stream",
     "text": [
      "1/1 [==============================] - 0s 12ms/step\n",
      "* pred_3:  [9]\n",
      "1/1 [==============================] - 0s 11ms/step\n"
     ]
    },
    {
     "data": {
      "image/png": "[encoded data removed]",
      "text/plain": [
       "<Figure size 1500x500 with 5 Axes>"
      ]
     },
     "metadata": {},
     "output_type": "display_data"
    }
   ],
   "source": [
    "## Create CAM data for \"9\"\n",
    "test_idx_3 = [list_9[i]]\n",
    "test_image_3 = test_x[test_idx_3]\n",
    "\n",
    "pred_3 = np.argmax(model.predict(test_image_3), axis = 1)\n",
    "print(\"* pred_3: \", pred_3)\n",
    "predCAM_3 = CAM.predict(test_image_3)\n",
    "\n",
    "attention_3 = predCAM_3[:,:,:,pred_3]\n",
    "attention_3 = np.abs(np.reshape(attention_3,(14,14)))\n",
    "\n",
    "resized_attention_3 = cv2.resize(attention_3,\n",
    "                                 (28, 28), \n",
    "                                 interpolation = cv2.INTER_CUBIC)\n",
    "\n",
    "resized_test_x_3 = cv2.resize(test_image_3.reshape(28,28), \n",
    "                              (28, 28),\n",
    "                              interpolation = cv2.INTER_CUBIC)\n",
    "\n",
    "# Plot\n",
    "plt.figure(figsize = (15,5))\n",
    "plt.subplot(1,5,1)\n",
    "plt.imshow(test_x[test_idx_3].reshape(28,28), 'gray')\n",
    "plt.axis('off')\n",
    "plt.subplot(1,5,2)\n",
    "plt.imshow(attention_3)\n",
    "plt.axis('off')\n",
    "plt.subplot(1,5,3)\n",
    "plt.imshow(resized_test_x_3, 'gray')\n",
    "plt.axis('off')\n",
    "plt.subplot(1,5,4)\n",
    "plt.imshow(resized_attention_3, 'jet', alpha = 0.5)\n",
    "plt.axis('off')\n",
    "plt.subplot(1,5,5)\n",
    "plt.imshow(resized_test_x_3, 'gray')\n",
    "plt.imshow(resized_attention_3, 'jet', alpha = 0.5)\n",
    "plt.axis('off')\n",
    "plt.show()"
   ]
  },
  {
   "cell_type": "code",
   "execution_count": null,
   "id": "475b86c5-1325-47fb-87e2-99c2afdf8f49",
   "metadata": {},
   "outputs": [],
   "source": []
  },
  {
   "cell_type": "code",
   "execution_count": null,
   "id": "59f557eb-174e-40bb-8613-3178d2f1ecca",
   "metadata": {},
   "outputs": [],
   "source": []
  },
  {
   "cell_type": "code",
   "execution_count": null,
   "id": "94f1c971-7e4f-4b2c-903a-ed33e45b6686",
   "metadata": {},
   "outputs": [],
   "source": []
  },
  {
   "cell_type": "code",
   "execution_count": null,
   "id": "20a766ca-7fb3-49ee-afc3-2dd035d804f0",
   "metadata": {},
   "outputs": [],
   "source": []
  },
  {
   "cell_type": "code",
   "execution_count": null,
   "id": "687f7e95-7343-4b88-a7c0-11196ff48f4f",
   "metadata": {},
   "outputs": [],
   "source": []
  }
 ],
 "metadata": {
  "kernelspec": {
   "display_name": "Python 3 (ipykernel)",
   "language": "python",
   "name": "python3"
  },
  "language_info": {
   "codemirror_mode": {
    "name": "ipython",
    "version": 3
   },
   "file_extension": ".py",
   "mimetype": "text/x-python",
   "name": "python",
   "nbconvert_exporter": "python",
   "pygments_lexer": "ipython3",
   "version": "3.9.18"
  }
 },
 "nbformat": 4,
 "nbformat_minor": 5
}
